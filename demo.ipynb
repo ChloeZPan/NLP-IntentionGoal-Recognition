{
 "cells": [
  {
   "cell_type": "markdown",
   "metadata": {},
   "source": [
    "# Introduction to Pytrips"
   ]
  },
  {
   "cell_type": "markdown",
   "metadata": {},
   "source": [
    "For your project2, you would need to use Pytrips library. PyTrips provides a python interface to interacting with the TRIPS ontology and parser.\n",
    "\n",
    "Install pytrips with `pip3 install pytrips`."
   ]
  },
  {
   "cell_type": "code",
   "execution_count": null,
   "metadata": {},
   "outputs": [],
   "source": [
    "# Load pytrips\n",
    "from pytrips import ontology\n",
    "\n",
    "ont = ontology.load()"
   ]
  },
  {
   "cell_type": "code",
   "execution_count": null,
   "metadata": {},
   "outputs": [],
   "source": [
    "# Access all words in the TRIPS lexicon\n",
    "ont.all_words"
   ]
  },
  {
   "cell_type": "code",
   "execution_count": null,
   "metadata": {},
   "outputs": [],
   "source": [
    "# Look up the list of ontology types for the word \"eat\"\n",
    "ont[\"w::eat\"]"
   ]
  },
  {
   "cell_type": "code",
   "execution_count": null,
   "metadata": {},
   "outputs": [],
   "source": [
    "# Get the ontology type named \"ont::person\"\n",
    "print(ont[\"ont::person\"])\n",
    "\n",
    "# for simplicity, looking up the ontology type works without \"ont::\" part\n",
    "print(ont[\"person\"])"
   ]
  },
  {
   "cell_type": "code",
   "execution_count": null,
   "metadata": {},
   "outputs": [],
   "source": [
    "# Note: all the look-ups are case-insensitive\n",
    "print(ont[\"w::EAT\"])\n",
    "print(ont[\"ONT::PERSON\"])\n",
    "print(ont[\"peRsOn\"])"
   ]
  },
  {
   "cell_type": "code",
   "execution_count": null,
   "metadata": {},
   "outputs": [],
   "source": [
    "# for a ontology type \"ont::eat\"\n",
    "ont_eat = ont[\"ont::eat\"]\n",
    "\n",
    "# look up its parent\n",
    "print(ont_eat.parent)\n",
    "\n",
    "# look up its children \n",
    "print(ont_eat.children)"
   ]
  },
  {
   "cell_type": "code",
   "execution_count": null,
   "metadata": {},
   "outputs": [],
   "source": [
    "# check the subsumption relation\n",
    "# typeA < typeB is True if typeA is a descendant of typeB \n",
    "ont_eat < ont[\"event-of-action\"]"
   ]
  },
  {
   "cell_type": "code",
   "execution_count": null,
   "metadata": {},
   "outputs": [],
   "source": [
    "# for subsumption relation test, at least one side should be explicitly a Trips type\n",
    "\"food\" > ont[\"bread\"]"
   ]
  },
  {
   "cell_type": "code",
   "execution_count": null,
   "metadata": {},
   "outputs": [],
   "source": [
    "# get the lowest common subsumer of two types\n",
    "ont[\"bread\"] ^ ont[\"geo-object\"]"
   ]
  }
 ],
 "metadata": {
  "kernelspec": {
   "display_name": "Python 3",
   "language": "python",
   "name": "python3"
  },
  "language_info": {
   "codemirror_mode": {
    "name": "ipython",
    "version": 3
   },
   "file_extension": ".py",
   "mimetype": "text/x-python",
   "name": "python",
   "nbconvert_exporter": "python",
   "pygments_lexer": "ipython3",
   "version": "3.7.4"
  }
 },
 "nbformat": 4,
 "nbformat_minor": 2
}
